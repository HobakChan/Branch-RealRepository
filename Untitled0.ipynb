{
  "nbformat": 4,
  "nbformat_minor": 0,
  "metadata": {
    "colab": {
      "provenance": [],
      "authorship_tag": "ABX9TyOIt4J2Hs2rs4tqGQcScBMj",
      "include_colab_link": true
    },
    "kernelspec": {
      "name": "python3",
      "display_name": "Python 3"
    },
    "language_info": {
      "name": "python"
    },
    "gpuClass": "standard"
  },
  "cells": [
    {
      "cell_type": "markdown",
      "metadata": {
        "id": "view-in-github",
        "colab_type": "text"
      },
      "source": [
        "<a href=\"https://colab.research.google.com/github/HobakChan/Branch-RealRepository/blob/main/Untitled0.ipynb\" target=\"_parent\"><img src=\"https://colab.research.google.com/assets/colab-badge.svg\" alt=\"Open In Colab\"/></a>"
      ]
    },
    {
      "cell_type": "markdown",
      "source": [
        "니가그린기린그림은 내가그린기린그림보다 목이 긴 기린그림이고 내가그린기린그림은 니가그린기린그림보다 목이 짧은 기린그림이다"
      ],
      "metadata": {
        "id": "cBTyZyCnO4Ld"
      }
    },
    {
      "cell_type": "code",
      "execution_count": 4,
      "metadata": {
        "colab": {
          "base_uri": "https://localhost:8080/"
        },
        "id": "sT6KlImjMSfV",
        "outputId": "7c663caa-2414-4c8d-d7d2-ae7c3bde5f80"
      },
      "outputs": [
        {
          "output_type": "stream",
          "name": "stdout",
          "text": [
            "This program is my first program written by google Colab\n",
            "2.9.2\n",
            "1.21.6\n",
            "15\n",
            "5\n",
            "50\n",
            "2.0\n"
          ]
        }
      ],
      "source": [
        "import tensorflow as tf\n",
        "import numpy as np\n",
        "\n",
        "print('This program is my first program written by google Colab')\n",
        "\n",
        "print(tf.__version__)\n",
        "print(np.__version__)\n",
        "\n",
        "a = 10\n",
        "b = 5\n",
        "print(a+b)\n",
        "print(a-b)\n",
        "print(a*b)\n",
        "print(a/b)\n",
        "      "
      ]
    },
    {
      "cell_type": "code",
      "source": [
        "# load an example dataset\n",
        "from vega_datasets import data\n",
        "cars = data.cars()\n",
        "\n",
        "# plot the dataset, referencing dataframe column names\n",
        "import altair as alt\n",
        "alt.Chart(cars).mark_point().encode(\n",
        "  x='Horsepower',\n",
        "  y='Miles_per_Gallon',\n",
        "  color='Origin'\n",
        ").interactive()"
      ],
      "metadata": {
        "id": "jtNqmdzRdcEN"
      },
      "execution_count": null,
      "outputs": []
    },
    {
      "cell_type": "code",
      "source": [
        "# load an example dataset\n",
        "from vega_datasets import data\n",
        "cars = data.cars()\n",
        "\n",
        "import altair as alt\n",
        "\n",
        "interval = alt.selection_interval()\n",
        "\n",
        "base = alt.Chart(cars).mark_point().encode(\n",
        "  y='Miles_per_Gallon',\n",
        "  color=alt.condition(interval, 'Origin', alt.value('lightgray'))\n",
        ").properties(\n",
        "  selection=interval\n",
        ")\n",
        "\n",
        "base.encode(x='Acceleration') | base.encode(x='Horsepower')"
      ],
      "metadata": {
        "id": "KGG2IBaMdcMV"
      },
      "execution_count": null,
      "outputs": []
    },
    {
      "cell_type": "code",
      "source": [
        "# load an example dataset\n",
        "from vega_datasets import data\n",
        "cars = data.cars()\n",
        "\n",
        "import altair as alt\n",
        "\n",
        "interval = alt.selection_interval()\n",
        "\n",
        "points = alt.Chart(cars).mark_point().encode(\n",
        "  x='Horsepower',\n",
        "  y='Miles_per_Gallon',\n",
        "  color=alt.condition(interval, 'Origin', alt.value('lightgray'))\n",
        ").properties(\n",
        "  selection=interval\n",
        ")\n",
        "\n",
        "histogram = alt.Chart(cars).mark_bar().encode(\n",
        "  x='count()',\n",
        "  y='Origin',\n",
        "  color='Origin'\n",
        ").transform_filter(interval)\n",
        "\n",
        "points & histogram"
      ],
      "metadata": {
        "id": "9lIeDhFidcT2"
      },
      "execution_count": null,
      "outputs": []
    },
    {
      "cell_type": "code",
      "source": [
        "# load an example dataset\n",
        "from vega_datasets import data\n",
        "cars = data.cars()\n",
        "\n",
        "import altair as alt\n",
        "\n",
        "points = alt.Chart(cars).mark_point().encode(\n",
        "  x='Year:T',\n",
        "  y='Miles_per_Gallon',\n",
        "  color='Origin'\n",
        ").properties(\n",
        "  width=800\n",
        ")\n",
        "\n",
        "lines = alt.Chart(cars).mark_line().encode(\n",
        "  x='Year:T',\n",
        "  y='mean(Miles_per_Gallon)',\n",
        "  color='Origin'\n",
        ").properties(\n",
        "  width=800\n",
        ").interactive(bind_y=False)\n",
        "              \n",
        "points + lines"
      ],
      "metadata": {
        "id": "3h_W408zdcbL"
      },
      "execution_count": null,
      "outputs": []
    },
    {
      "cell_type": "code",
      "source": [],
      "metadata": {
        "colab": {
          "base_uri": "https://localhost:8080/"
        },
        "id": "mnVNm_p3SGRH",
        "outputId": "0b2706f0-8f27-4817-e1b2-71cc55e4e681"
      },
      "execution_count": 15,
      "outputs": [
        {
          "output_type": "stream",
          "name": "stdout",
          "text": [
            "Name: torchvision\n",
            "Version: 0.13.1+cu113\n",
            "Summary: image and video datasets and models for torch deep learning\n",
            "Home-page: https://github.com/pytorch/vision\n",
            "Author: PyTorch Core Team\n",
            "Author-email: soumith@pytorch.org\n",
            "License: BSD\n",
            "Location: /usr/local/lib/python3.8/dist-packages\n",
            "Requires: torch, typing-extensions, numpy, requests, pillow\n",
            "Required-by: fastai\n"
          ]
        }
      ]
    },
    {
      "cell_type": "code",
      "source": [
        "with open('/gdrive/My Drive/test.txt', 'w') as f:\n",
        "    f.writelines(\"Hello Google Colab!\")"
      ],
      "metadata": {
        "id": "DovYH1KSOSa8"
      },
      "execution_count": 22,
      "outputs": []
    }
  ]
}